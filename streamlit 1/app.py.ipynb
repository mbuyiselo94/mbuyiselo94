{
 "cells": [
  {
   "cell_type": "code",
   "execution_count": 10,
   "id": "84d45a4e",
   "metadata": {},
   "outputs": [],
   "source": [
    "import streamlit as st\n",
    "import pandas as pd\n",
    "import numpy as ny\n",
    "import altair as alt"
   ]
  },
  {
   "cell_type": "code",
   "execution_count": 11,
   "id": "36b4f1b7",
   "metadata": {},
   "outputs": [],
   "source": [
    "st.set_page_config(page_title = 'Daily Commodity Prices',\n",
    "                  layout = 'centered')"
   ]
  },
  {
   "cell_type": "code",
   "execution_count": null,
   "id": "0ff6f7e9",
   "metadata": {},
   "outputs": [],
   "source": []
  }
 ],
 "metadata": {
  "kernelspec": {
   "display_name": "Python 3 (ipykernel)",
   "language": "python",
   "name": "python3"
  },
  "language_info": {
   "codemirror_mode": {
    "name": "ipython",
    "version": 3
   },
   "file_extension": ".py",
   "mimetype": "text/x-python",
   "name": "python",
   "nbconvert_exporter": "python",
   "pygments_lexer": "ipython3",
   "version": "3.9.12"
  }
 },
 "nbformat": 4,
 "nbformat_minor": 5
}
